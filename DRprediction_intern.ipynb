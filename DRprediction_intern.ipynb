{
  "cells": [
    {
      "cell_type": "markdown",
      "metadata": {
        "id": "view-in-github",
        "colab_type": "text"
      },
      "source": [
        "<a href=\"https://colab.research.google.com/github/jaya-rhupika/Predicton-of-DR-using-XAI-and-CNN/blob/main/DRprediction_intern.ipynb\" target=\"_parent\"><img src=\"https://colab.research.google.com/assets/colab-badge.svg\" alt=\"Open In Colab\"/></a>"
      ]
    },
    {
      "cell_type": "code",
      "execution_count": 1,
      "metadata": {
        "colab": {
          "base_uri": "https://localhost:8080/"
        },
        "id": "fI1pU-MyRjjV",
        "outputId": "04ea2f37-624b-4a79-b435-cfa8b3088993"
      },
      "outputs": [
        {
          "output_type": "stream",
          "name": "stdout",
          "text": [
            "Mounted at /content/drive\n"
          ]
        }
      ],
      "source": [
        "from google.colab import drive\n",
        "drive.mount('/content/drive')\n"
      ]
    },
    {
      "cell_type": "code",
      "execution_count": 2,
      "metadata": {
        "id": "LK5PdMwpR5na",
        "colab": {
          "base_uri": "https://localhost:8080/"
        },
        "outputId": "e0b43927-9a24-400e-a683-4ac06ed304d2"
      },
      "outputs": [
        {
          "output_type": "stream",
          "name": "stdout",
          "text": [
            "Class 2: 12119 images\n",
            "Class 3: 1006 images\n",
            "Class 1: 3706 images\n",
            "Class 4: 2002 images\n",
            "Class 0: 55162 images\n"
          ]
        }
      ],
      "source": [
        "import zipfile\n",
        "import os\n",
        "\n",
        "# Path to the ZIP file in Google Drive\n",
        "zip_file_path = '/content/drive/MyDrive/archive.zip'\n",
        "\n",
        "# Extract the ZIP file\n",
        "with zipfile.ZipFile(zip_file_path, 'r') as zip_ref:\n",
        "    zip_ref.extractall('/content/extracted_images')\n",
        "\n",
        "# Count images in each folder (class)\n",
        "class_counts = {}\n",
        "for folder_name in os.listdir('/content/extracted_images/dr_unified_v2/dr_unified_v2/train'):\n",
        "    folder_path = os.path.join('/content/extracted_images/dr_unified_v2/dr_unified_v2/train', folder_name)\n",
        "    if os.path.isdir(folder_path):\n",
        "        num_images = len(os.listdir(folder_path))\n",
        "        class_counts[folder_name] = num_images\n",
        "\n",
        "# Print the number of images in each class\n",
        "for class_name, count in class_counts.items():\n",
        "    print(f'Class {class_name}: {count} images')\n",
        "\n",
        "# Clean up extracted files (optional)\n",
        "# os.remove(zip_file_path)\n",
        "# os.rmdir('/content/extracted_images')\n"
      ]
    },
    {
      "cell_type": "code",
      "execution_count": 3,
      "metadata": {
        "colab": {
          "base_uri": "https://localhost:8080/"
        },
        "id": "7R_UefxhSBpb",
        "outputId": "63c6a34a-a2ea-42d5-8539-87e7e534f1be"
      },
      "outputs": [
        {
          "output_type": "stream",
          "name": "stdout",
          "text": [
            "Dataset downsampling completed successfully.\n",
            "\n",
            "Number of images in each class after downsampling:\n",
            "Class 2: 2000 images\n",
            "Class 3: 1006 images\n",
            "Class 1: 2000 images\n",
            "Class 4: 2000 images\n",
            "Class 0: 2000 images\n"
          ]
        }
      ],
      "source": [
        "import shutil\n",
        "import os\n",
        "import random\n",
        "\n",
        "# Define the target number of images for each class (e.g., 2000 images per class)\n",
        "target_num_images = 2000  # Change to 2000 for all classes except Class 3\n",
        "\n",
        "# Create a new directory to store the downsampled dataset if it doesn't exist\n",
        "downsampled_dir = '/content/downsampled_images'\n",
        "if not os.path.exists(downsampled_dir):\n",
        "    os.makedirs(downsampled_dir)\n",
        "else:\n",
        "    # Remove existing images to start fresh\n",
        "    shutil.rmtree(downsampled_dir)\n",
        "    os.makedirs(downsampled_dir)\n",
        "\n",
        "# Check if the class_counts dictionary is not empty\n",
        "if class_counts:\n",
        "    # Iterate over each class and copy exactly 2000 images to the downsampled dataset\n",
        "    for class_name, num_images in class_counts.items():\n",
        "        class_dir = os.path.join('/content/extracted_images/dr_unified_v2/dr_unified_v2/train', class_name)\n",
        "        if os.path.isdir(class_dir):\n",
        "            if class_name == '3':\n",
        "                # For Class 3, copy all images without downsampling\n",
        "                num_to_copy = num_images\n",
        "            else:\n",
        "                # For other classes, randomly sample exactly 2000 images\n",
        "                num_to_copy = min(num_images, target_num_images)\n",
        "\n",
        "            # Copy sampled images to the downsampled dataset directory\n",
        "            os.makedirs(os.path.join(downsampled_dir, class_name), exist_ok=True)\n",
        "            sampled_images = random.sample(os.listdir(class_dir), num_to_copy)\n",
        "            for image_name in sampled_images:\n",
        "                src_path = os.path.join(class_dir, image_name)\n",
        "                dst_path = os.path.join(downsampled_dir, class_name, image_name)\n",
        "                if os.path.isfile(src_path):  # Check if the item is a file\n",
        "                    shutil.copy(src_path, dst_path)\n",
        "\n",
        "    print('Dataset downsampling completed successfully.')\n",
        "\n",
        "    # Count images in each class after downsampling\n",
        "    downsampled_class_counts = {}\n",
        "    for class_name in os.listdir(downsampled_dir):\n",
        "        class_path = os.path.join(downsampled_dir, class_name)\n",
        "        if os.path.isdir(class_path):\n",
        "            num_images = len(os.listdir(class_path))\n",
        "            downsampled_class_counts[class_name] = num_images\n",
        "\n",
        "    # Print the number of images in each class after downsampling\n",
        "    print('\\nNumber of images in each class after downsampling:')\n",
        "    for class_name, num_images in downsampled_class_counts.items():\n",
        "        print(f'Class {class_name}: {num_images} images')\n",
        "else:\n",
        "    print('Error: class_counts dictionary is empty. Make sure it is populated before running this code.')\n"
      ]
    }
  ],
  "metadata": {
    "colab": {
      "provenance": [],
      "include_colab_link": true
    },
    "kernelspec": {
      "display_name": "Python 3",
      "name": "python3"
    },
    "language_info": {
      "name": "python"
    }
  },
  "nbformat": 4,
  "nbformat_minor": 0
}