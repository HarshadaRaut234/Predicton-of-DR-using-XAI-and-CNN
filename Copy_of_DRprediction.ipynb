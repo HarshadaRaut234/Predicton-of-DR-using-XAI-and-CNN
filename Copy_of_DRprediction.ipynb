{
  "cells": [
    {
      "cell_type": "markdown",
      "metadata": {
        "id": "view-in-github",
        "colab_type": "text"
      },
      "source": [
        "<a href=\"https://colab.research.google.com/github/jaya-rhupika/Predicton-of-DR-using-XAI-and-CNN/blob/main/Copy_of_DRprediction.ipynb\" target=\"_parent\"><img src=\"https://colab.research.google.com/assets/colab-badge.svg\" alt=\"Open In Colab\"/></a>"
      ]
    },
    {
      "cell_type": "code",
      "execution_count": 1,
      "metadata": {
        "colab": {
          "base_uri": "https://localhost:8080/"
        },
        "id": "fI1pU-MyRjjV",
        "outputId": "0cb69272-13c5-4762-f6a8-f7eaa6ac730d"
      },
      "outputs": [
        {
          "output_type": "stream",
          "name": "stdout",
          "text": [
            "Mounted at /content/drive\n"
          ]
        }
      ],
      "source": [
        "from google.colab import drive\n",
        "drive.mount('/content/drive')"
      ]
    },
    {
      "cell_type": "code",
      "execution_count": 2,
      "metadata": {
        "id": "LK5PdMwpR5na"
      },
      "outputs": [],
      "source": [
        "# Define the path to the zip file in Google Drive\n",
        "zip_file_path = '/content/drive/My Drive/archive.zip'  # Adjust this path\n"
      ]
    },
    {
      "cell_type": "code",
      "execution_count": 3,
      "metadata": {
        "colab": {
          "base_uri": "https://localhost:8080/"
        },
        "id": "7R_UefxhSBpb",
        "outputId": "e3ca5555-1701-4244-fe87-229356c38523"
      },
      "outputs": [
        {
          "output_type": "stream",
          "name": "stdout",
          "text": [
            "Unzipping successful!\n"
          ]
        }
      ],
      "source": [
        "import zipfile\n",
        "import os\n",
        "\n",
        "# Define the extraction directory\n",
        "extract_dir = '/content/archive'\n",
        "\n",
        "# Unzip the file\n",
        "with zipfile.ZipFile(zip_file_path, 'r') as zip_ref:\n",
        "    zip_ref.extractall(extract_dir)\n",
        "\n",
        "print(\"Unzipping successful!\")\n"
      ]
    },
    {
      "cell_type": "code",
      "execution_count": 4,
      "metadata": {
        "id": "uBBhKrldAjs-"
      },
      "outputs": [],
      "source": [
        "import tensorflow as tf\n",
        "from tensorflow.keras.preprocessing.image import ImageDataGenerator\n",
        "import os\n",
        "import shutil\n",
        "import random\n"
      ]
    },
    {
      "cell_type": "code",
      "execution_count": 5,
      "metadata": {
        "colab": {
          "base_uri": "https://localhost:8080/"
        },
        "id": "8LqtSdtWAlHR",
        "outputId": "9050e93e-15c3-4e17-c50d-709ab871f035"
      },
      "outputs": [
        {
          "output_type": "stream",
          "name": "stdout",
          "text": [
            "Subfolders: ['0', '3', '4', '1', '2']\n"
          ]
        }
      ],
      "source": [
        "base_path = '/content/archive/dr_unified_v2/dr_unified_v2/train'\n",
        "subfolders = [f for f in os.listdir(base_path) if os.path.isdir(os.path.join(base_path, f))]\n",
        "print(f\"Subfolders: {subfolders}\")\n"
      ]
    },
    {
      "cell_type": "code",
      "execution_count": 6,
      "metadata": {
        "colab": {
          "base_uri": "https://localhost:8080/"
        },
        "id": "_KLGFZhlA-4f",
        "outputId": "2f4699e0-5d9f-49a3-d5b5-785884559f54"
      },
      "outputs": [
        {
          "output_type": "stream",
          "name": "stdout",
          "text": [
            "Processing class '0':\n",
            "  Training set size: 38613\n",
            "  Validation set size: 8274\n",
            "  Testing set size: 8275\n",
            "Processing class '3':\n",
            "  Training set size: 704\n",
            "  Validation set size: 151\n",
            "  Testing set size: 151\n",
            "Processing class '4':\n",
            "  Training set size: 1401\n",
            "  Validation set size: 300\n",
            "  Testing set size: 301\n",
            "Processing class '1':\n",
            "  Training set size: 2594\n",
            "  Validation set size: 556\n",
            "  Testing set size: 556\n",
            "Processing class '2':\n",
            "  Training set size: 8483\n",
            "  Validation set size: 1818\n",
            "  Testing set size: 1818\n",
            "Images moved to respective directories.\n"
          ]
        }
      ],
      "source": [
        "random.seed(42)\n",
        "\n",
        "# Define split ratios\n",
        "train_ratio = 0.7\n",
        "val_ratio = 0.15\n",
        "test_ratio = 0.15\n",
        "\n",
        "# Create directories for train, val, and test sets\n",
        "train_dir = '/content/archive/train'\n",
        "val_dir = '/content/archive/val'\n",
        "test_dir = '/content/archive/test'\n",
        "\n",
        "os.makedirs(train_dir, exist_ok=True)\n",
        "os.makedirs(val_dir, exist_ok=True)\n",
        "os.makedirs(test_dir, exist_ok=True)\n",
        "\n",
        "# Create class subfolders within train, val, and test directories\n",
        "for subfolder in subfolders:\n",
        "    os.makedirs(os.path.join(train_dir, subfolder), exist_ok=True)\n",
        "    os.makedirs(os.path.join(val_dir, subfolder), exist_ok=True)\n",
        "    os.makedirs(os.path.join(test_dir, subfolder), exist_ok=True)\n",
        "\n",
        "# Function to move images to respective directories\n",
        "def move_images(image_list, source_dir, target_dir):\n",
        "    for image in image_list:\n",
        "        shutil.move(os.path.join(source_dir, image), os.path.join(target_dir, image))\n",
        "\n",
        "# Process each subfolder\n",
        "for subfolder in subfolders:\n",
        "    subfolder_path = os.path.join(base_path, subfolder)\n",
        "    images = os.listdir(subfolder_path)\n",
        "    random.shuffle(images)\n",
        "\n",
        "    # Calculate split indices\n",
        "    train_idx = int(train_ratio * len(images))\n",
        "    val_idx = int((train_ratio + val_ratio) * len(images))\n",
        "\n",
        "    # Split the data\n",
        "    train_images = images[:train_idx]\n",
        "    val_images = images[train_idx:val_idx]\n",
        "    test_images = images[val_idx:]\n",
        "\n",
        "    print(f\"Processing class '{subfolder}':\")\n",
        "    print(f\"  Training set size: {len(train_images)}\")\n",
        "    print(f\"  Validation set size: {len(val_images)}\")\n",
        "    print(f\"  Testing set size: {len(test_images)}\")\n",
        "\n",
        "    # Move images to respective directories\n",
        "    move_images(train_images, subfolder_path, os.path.join(train_dir, subfolder))\n",
        "    move_images(val_images, subfolder_path, os.path.join(val_dir, subfolder))\n",
        "    move_images(test_images, subfolder_path, os.path.join(test_dir, subfolder))\n",
        "\n",
        "print(\"Images moved to respective directories.\")\n"
      ]
    },
    {
      "cell_type": "code",
      "execution_count": 7,
      "metadata": {
        "colab": {
          "base_uri": "https://localhost:8080/"
        },
        "id": "SGVmLgGoBHQ2",
        "outputId": "b873354d-04b8-430c-c7ab-ade5ea12813c"
      },
      "outputs": [
        {
          "output_type": "stream",
          "name": "stdout",
          "text": [
            "Found 51795 images belonging to 5 classes.\n",
            "Found 11099 images belonging to 5 classes.\n",
            "Found 11101 images belonging to 5 classes.\n",
            "{'0': 0, '1': 1, '2': 2, '3': 3, '4': 4}\n"
          ]
        }
      ],
      "source": [
        "# Create an ImageDataGenerator for training with data augmentation\n",
        "train_datagen = ImageDataGenerator(\n",
        "    rescale=1./255,  # Normalize pixel values to [0, 1]\n",
        "    rotation_range=20,\n",
        "    width_shift_range=0.2,\n",
        "    height_shift_range=0.2,\n",
        "    shear_range=0.2,\n",
        "    zoom_range=0.2,\n",
        "    horizontal_flip=True,\n",
        "    fill_mode='nearest'\n",
        ")\n",
        "\n",
        "# Create an ImageDataGenerator for validation and testing (without augmentation)\n",
        "val_test_datagen = ImageDataGenerator(rescale=1./255)\n",
        "\n",
        "# Create data generators for training, validation, and testing\n",
        "train_generator = train_datagen.flow_from_directory(\n",
        "    train_dir,\n",
        "    target_size=(224, 224),\n",
        "    batch_size=32,\n",
        "    class_mode='categorical'\n",
        ")\n",
        "\n",
        "val_generator = val_test_datagen.flow_from_directory(\n",
        "    val_dir,\n",
        "    target_size=(224, 224),\n",
        "    batch_size=32,\n",
        "    class_mode='categorical'\n",
        ")\n",
        "\n",
        "test_generator = val_test_datagen.flow_from_directory(\n",
        "    test_dir,\n",
        "    target_size=(224, 224),\n",
        "    batch_size=32,\n",
        "    class_mode='categorical',\n",
        "    shuffle=False  # Important for evaluation\n",
        ")\n",
        "\n",
        "# Print the class indices to ensure the labels are correctly mapped\n",
        "print(train_generator.class_indices)\n"
      ]
    },
    {
      "cell_type": "code",
      "execution_count": 8,
      "metadata": {
        "colab": {
          "base_uri": "https://localhost:8080/"
        },
        "id": "BKK64K_jBq2O",
        "outputId": "99ba1aed-99cf-46fc-cf97-a114dd58f6f2"
      },
      "outputs": [
        {
          "output_type": "stream",
          "name": "stdout",
          "text": [
            "Batch statistics:\n",
            "Min pixel value: 0.0\n",
            "Max pixel value: 1.0\n",
            "Mean pixel value: 0.3070035\n",
            "Standard deviation of pixel values: 0.24139117\n"
          ]
        }
      ],
      "source": [
        "import numpy as np\n",
        "\n",
        "# Get a batch of images from the training generator\n",
        "batch = next(train_generator)\n",
        "images, labels = batch\n",
        "\n",
        "# Print the statistics of the images in the batch\n",
        "print(\"Batch statistics:\")\n",
        "print(\"Min pixel value:\", np.min(images))\n",
        "print(\"Max pixel value:\", np.max(images))\n",
        "print(\"Mean pixel value:\", np.mean(images))\n",
        "print(\"Standard deviation of pixel values:\", np.std(images))\n"
      ]
    }
  ],
  "metadata": {
    "colab": {
      "provenance": [],
      "include_colab_link": true
    },
    "kernelspec": {
      "display_name": "Python 3",
      "name": "python3"
    },
    "language_info": {
      "name": "python"
    }
  },
  "nbformat": 4,
  "nbformat_minor": 0
}